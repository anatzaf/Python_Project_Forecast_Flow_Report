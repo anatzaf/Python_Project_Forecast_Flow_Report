{
  "nbformat": 4,
  "nbformat_minor": 0,
  "metadata": {
    "colab": {
      "provenance": [],
      "authorship_tag": "ABX9TyPqBdYlsNKQsWu2vl+ZKNxc",
      "include_colab_link": true
    },
    "kernelspec": {
      "name": "python3",
      "display_name": "Python 3"
    },
    "language_info": {
      "name": "python"
    }
  },
  "cells": [
    {
      "cell_type": "markdown",
      "metadata": {
        "id": "view-in-github",
        "colab_type": "text"
      },
      "source": [
        "<a href=\"https://colab.research.google.com/github/anatzaf/Python_Project_Forecast_Flow_Report/blob/main/NoteBookToRun.ipynb\" target=\"_parent\"><img src=\"https://colab.research.google.com/assets/colab-badge.svg\" alt=\"Open In Colab\"/></a>"
      ]
    },
    {
      "cell_type": "markdown",
      "source": [
        "#**Run the Project**#\n"
      ],
      "metadata": {
        "id": "7hiM-unx0y-4"
      }
    },
    {
      "cell_type": "code",
      "source": [
        "!git clone https://github.com/anatzaf/Python_Project_Forecast_Flow_Report.git\n",
        "%cd Python_Project_Forecast_Flow_Report\n",
        "!pip install -r requirements.txt\n",
        "!python Run.py --rate_of_early_repayments 0.025 --fixed_fee 24 --current_month \"2024-02-29\""
      ],
      "metadata": {
        "id": "96H4ZrNK010X"
      },
      "execution_count": null,
      "outputs": []
    },
    {
      "cell_type": "markdown",
      "source": [
        "#**Download The Excel Results**#"
      ],
      "metadata": {
        "id": "cvGaHdlz03pN"
      }
    },
    {
      "cell_type": "code",
      "source": [
        "from google.colab import files\n",
        "files.download('split_loan_data.xlsx')"
      ],
      "metadata": {
        "id": "R_4tfVBT06EQ"
      },
      "execution_count": null,
      "outputs": []
    }
  ]
}