{
  "nbformat": 4,
  "nbformat_minor": 0,
  "metadata": {
    "colab": {
      "provenance": [],
      "authorship_tag": "ABX9TyPClRwMkJrHLS1d6Rmd/hYv",
      "include_colab_link": true
    },
    "kernelspec": {
      "name": "python3",
      "display_name": "Python 3"
    },
    "language_info": {
      "name": "python"
    }
  },
  "cells": [
    {
      "cell_type": "markdown",
      "metadata": {
        "id": "view-in-github",
        "colab_type": "text"
      },
      "source": [
        "<a href=\"https://colab.research.google.com/github/anatzaf/Python_Project_Forecast_Flow_Report/blob/main/NoteBookToRun.ipynb\" target=\"_parent\"><img src=\"https://colab.research.google.com/assets/colab-badge.svg\" alt=\"Open In Colab\"/></a>"
      ]
    },
    {
      "cell_type": "code",
      "execution_count": 10,
      "metadata": {
        "colab": {
          "base_uri": "https://localhost:8080/"
        },
        "id": "hP2MoVI595cT",
        "outputId": "5d3345be-f9d5-492a-ead4-2bb636b8a19b"
      },
      "outputs": [
        {
          "output_type": "stream",
          "name": "stdout",
          "text": [
            "fatal: destination path 'Python_Project_Forecast_Flow_Report' already exists and is not an empty directory.\n",
            "/content/Python_Project_Forecast_Flow_Report\n",
            "Requirement already satisfied: pandas in /usr/local/lib/python3.10/dist-packages (from -r requirements.txt (line 1)) (1.5.3)\n",
            "Collecting numpy-financial (from -r requirements.txt (line 2))\n",
            "  Downloading numpy_financial-1.0.0-py3-none-any.whl (14 kB)\n",
            "Collecting xlsxwriter (from -r requirements.txt (line 3))\n",
            "  Downloading XlsxWriter-3.2.0-py3-none-any.whl (159 kB)\n",
            "\u001b[2K     \u001b[90m━━━━━━━━━━━━━━━━━━━━━━━━━━━━━━━━━━━━━━━━\u001b[0m \u001b[32m159.9/159.9 kB\u001b[0m \u001b[31m2.6 MB/s\u001b[0m eta \u001b[36m0:00:00\u001b[0m\n",
            "\u001b[?25hRequirement already satisfied: python-dateutil>=2.8.1 in /usr/local/lib/python3.10/dist-packages (from pandas->-r requirements.txt (line 1)) (2.8.2)\n",
            "Requirement already satisfied: pytz>=2020.1 in /usr/local/lib/python3.10/dist-packages (from pandas->-r requirements.txt (line 1)) (2023.4)\n",
            "Requirement already satisfied: numpy>=1.21.0 in /usr/local/lib/python3.10/dist-packages (from pandas->-r requirements.txt (line 1)) (1.25.2)\n",
            "Requirement already satisfied: six>=1.5 in /usr/local/lib/python3.10/dist-packages (from python-dateutil>=2.8.1->pandas->-r requirements.txt (line 1)) (1.16.0)\n",
            "Installing collected packages: xlsxwriter, numpy-financial\n",
            "Successfully installed numpy-financial-1.0.0 xlsxwriter-3.2.0\n",
            "Traceback (most recent call last):\n",
            "  File \"/content/Python_Project_Forecast_Flow_Report/Run.py\", line 21, in <module>\n",
            "    drive.mount('/content/drive')\n",
            "  File \"/usr/local/lib/python3.10/dist-packages/google/colab/drive.py\", line 100, in mount\n",
            "    return _mount(\n",
            "  File \"/usr/local/lib/python3.10/dist-packages/google/colab/drive.py\", line 133, in _mount\n",
            "    _message.blocking_request(\n",
            "  File \"/usr/local/lib/python3.10/dist-packages/google/colab/_message.py\", line 173, in blocking_request\n",
            "    request_id = send_request(\n",
            "  File \"/usr/local/lib/python3.10/dist-packages/google/colab/_message.py\", line 117, in send_request\n",
            "    instance = ipython.get_kernelapp()\n",
            "  File \"/usr/local/lib/python3.10/dist-packages/google/colab/_ipython.py\", line 28, in get_kernelapp\n",
            "    return get_ipython().kernel.parent\n",
            "AttributeError: 'NoneType' object has no attribute 'kernel'\n"
          ]
        }
      ],
      "source": [
        "!git clone https://github.com/anatzaf/Python_Project_Forecast_Flow_Report.git\n",
        "%cd Python_Project_Forecast_Flow_Report\n",
        "!pip install -r requirements.txt\n",
        "!python Run.py --rate_of_early_repayments 0.025 --fixed_fee 24 --current_month \"2024-03-29\"\n"
      ]
    },
    {
      "cell_type": "code",
      "source": [],
      "metadata": {
        "id": "jf_p2NHzFuK9"
      },
      "execution_count": null,
      "outputs": []
    },
    {
      "cell_type": "markdown",
      "source": [
        "##Note, after you run, an Excel file is waiting for you in the downloads##"
      ],
      "metadata": {
        "id": "RykdlRp5BnlE"
      }
    }
  ]
}