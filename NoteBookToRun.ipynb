{
  "nbformat": 4,
  "nbformat_minor": 0,
  "metadata": {
    "colab": {
      "provenance": [],
      "authorship_tag": "ABX9TyNWewuVOstN3oeTOUON/mgZ",
      "include_colab_link": true
    },
    "kernelspec": {
      "name": "python3",
      "display_name": "Python 3"
    },
    "language_info": {
      "name": "python"
    }
  },
  "cells": [
    {
      "cell_type": "markdown",
      "metadata": {
        "id": "view-in-github",
        "colab_type": "text"
      },
      "source": [
        "<a href=\"https://colab.research.google.com/github/anatzaf/Python_Project_Forecast_Flow_Report/blob/main/NoteBookToRun.ipynb\" target=\"_parent\"><img src=\"https://colab.research.google.com/assets/colab-badge.svg\" alt=\"Open In Colab\"/></a>"
      ]
    },
    {
      "cell_type": "code",
      "execution_count": null,
      "metadata": {
        "id": "hP2MoVI595cT"
      },
      "outputs": [],
      "source": [
        "! git clone https://github.com/anatzaf/Python_Project_Forecast_Flow_Report.git\n",
        "! python  Naya_college_python_project_stocks_alerts/run.py --target_stock=NVDA --days_back_avg=3 --days_back_interval=60 --threshold=0.02 --stocks=\"NVDA,AMD,AVGO,INTC,ARM,QCOM,MU,TXN,NXPI,CSCO\""
      ]
    }
  ]
}