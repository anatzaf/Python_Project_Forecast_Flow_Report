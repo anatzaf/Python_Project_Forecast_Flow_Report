{
  "nbformat": 4,
  "nbformat_minor": 0,
  "metadata": {
    "colab": {
      "provenance": [],
      "authorship_tag": "ABX9TyMyq9eqleWkz/6nUVYv749m",
      "include_colab_link": true
    },
    "kernelspec": {
      "name": "python3",
      "display_name": "Python 3"
    },
    "language_info": {
      "name": "python"
    }
  },
  "cells": [
    {
      "cell_type": "markdown",
      "metadata": {
        "id": "view-in-github",
        "colab_type": "text"
      },
      "source": [
        "<a href=\"https://colab.research.google.com/github/anatzaf/Python_Project_Forecast_Flow_Report/blob/main/NoteBookToRun.ipynb\" target=\"_parent\"><img src=\"https://colab.research.google.com/assets/colab-badge.svg\" alt=\"Open In Colab\"/></a>"
      ]
    },
    {
      "cell_type": "code",
      "execution_count": null,
      "metadata": {
        "colab": {
          "base_uri": "https://localhost:8080/"
        },
        "id": "hP2MoVI595cT",
        "outputId": "057130b8-93f5-4f3a-ae23-cd44c8193674"
      },
      "outputs": [
        {
          "output_type": "stream",
          "name": "stdout",
          "text": [
            "fatal: destination path 'Python_Project_Forecast_Flow_Report' already exists and is not an empty directory.\n",
            "python3: can't open file '/content/Python_Project_Forecast_Flow_Report/run.py': [Errno 2] No such file or directory\n"
          ]
        }
      ],
      "source": [
        "! git clone https://github.com/anatzaf/Python_Project_Forecast_Flow_Report.git\n",
        "! python Python_Project_Forecast_Flow_Report/run.py -rate_of_early_repayments 0.025 --fixed_fee 24 --current_month 2024-03-29"
      ]
    },
    {
      "cell_type": "markdown",
      "source": [
        "##Note, after you run, an Excel file is waiting for you in the downloads##"
      ],
      "metadata": {
        "id": "RykdlRp5BnlE"
      }
    }
  ]
}