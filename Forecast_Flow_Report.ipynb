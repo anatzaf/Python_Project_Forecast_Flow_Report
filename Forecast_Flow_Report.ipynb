{
  "nbformat": 4,
  "nbformat_minor": 0,
  "metadata": {
    "colab": {
      "provenance": [],
      "authorship_tag": "ABX9TyOsKp7Y5WtqeU89dsLUd6O8",
      "include_colab_link": true
    },
    "kernelspec": {
      "name": "python3",
      "display_name": "Python 3"
    },
    "language_info": {
      "name": "python"
    }
  },
  "cells": [
    {
      "cell_type": "markdown",
      "metadata": {
        "id": "view-in-github",
        "colab_type": "text"
      },
      "source": [
        "<a href=\"https://colab.research.google.com/github/anatzaf/Python_Project_Forecast_Flow_Report/blob/main/Forecast_Flow_Report.ipynb\" target=\"_parent\"><img src=\"https://colab.research.google.com/assets/colab-badge.svg\" alt=\"Open In Colab\"/></a>"
      ]
    },
    {
      "cell_type": "markdown",
      "source": [
        "###**import & parameters**"
      ],
      "metadata": {
        "id": "bCYxcbwmqzHz"
      }
    },
    {
      "cell_type": "code",
      "source": [
        "\n",
        "import pandas as pd\n",
        "import numpy_financial as npf\n",
        "from datetime import datetime\n",
        "import calendar\n",
        "import xlsxwriter\n",
        "import argparse\n",
        "import sys\n",
        "from google.colab import drive,files\n",
        "\n",
        "# Check if running in an IPython kernel\n",
        "if 'ipykernel' in sys.modules:\n",
        "    #if in notebook\n",
        "    rate_of_early_repayments = 0.025\n",
        "    fixed_fee = 24\n",
        "    current_month = datetime.now()  # or datetime(2024, 2, 29) for a fixed date\n",
        "##if not in notebook\n",
        "else:\n",
        "    parser = argparse.ArgumentParser(description=\"Financial parameters.\")\n",
        "\n",
        "    parser.add_argument('--rate_of_early_repayments', type=float, default=0.025,\n",
        "                        help='Rate of early repayments')\n",
        "    parser.add_argument('--fixed_fee', type=int, default=24,\n",
        "                        help='Fixed fee')\n",
        "    parser.add_argument('--current_month', type=lambda s: datetime.strptime(s, '%Y-%m-%d'),\n",
        "                        default=datetime(2024, 2, 29),\n",
        "                        help='Current month (format YYYY-MM-DD)')\n",
        "    args = parser.parse_args()\n",
        "\n",
        "  #Use the arguments\n",
        "    rate_of_early_repayments = args.rate_of_early_repayments\n",
        "    fixed_fee = args.fixed_fee\n",
        "    current_month = args.current_month\n"
      ],
      "metadata": {
        "id": "VFVE5MjHqyEy"
      },
      "execution_count": 43,
      "outputs": []
    },
    {
      "cell_type": "markdown",
      "source": [
        "### **def Repayments Functions**"
      ],
      "metadata": {
        "id": "_fdb--8pmhW8"
      }
    },
    {
      "cell_type": "code",
      "source": [
        "def calculate_monthly_payment(am_EstimatedBalance, annual_interest_rate, nb_TotalPayments):\n",
        "    monthly_interest_rate = annual_interest_rate / 12\n",
        "    return npf.pmt(monthly_interest_rate, nb_TotalPayments, -am_EstimatedBalance)\n",
        "\n",
        "def calculate_principal_payment(am_EstimatedBalance, annual_interest_rate, month, nb_TotalPayments):\n",
        "    monthly_interest_rate = annual_interest_rate / 12\n",
        "    remaining_payments = nb_TotalPayments - month + 1\n",
        "    monthly_payment = calculate_monthly_payment(am_EstimatedBalance, annual_interest_rate, remaining_payments)\n",
        "    interest_payment = am_EstimatedBalance * monthly_interest_rate\n",
        "    return monthly_payment - interest_payment\n",
        "\n",
        "def calculate_early_repayment(previous_balance, principal_payment):\n",
        "    return (previous_balance - principal_payment) * rate_of_early_repayments\n",
        "\n",
        "def calculate_EarlyRepaymentFee(payment_number, previous_balance, principal_component, nb_TotalPayments, annual_interest_rate, rate_of_early_repayments, fixed_fee):\n",
        "    monthly_interest_rate = annual_interest_rate / 12\n",
        "    adjusted_balance = previous_balance - principal_component\n",
        "    EarlyRepaymentFee = 0\n",
        "    for future_month in range(1, 7):\n",
        "        adjusted_nper = nb_TotalPayments - payment_number\n",
        "        if future_month <= adjusted_nper:\n",
        "            interest_payment = npf.ipmt(monthly_interest_rate, future_month, adjusted_nper, -adjusted_balance)\n",
        "            EarlyRepaymentFee += interest_payment\n",
        "    EarlyRepaymentFee = (EarlyRepaymentFee * rate_of_early_repayments) + (fixed_fee / nb_TotalPayments)\n",
        "    return EarlyRepaymentFee\n",
        "\n",
        "def calculate_loan_repayments(loan_id,am_EstimatedBalance, annual_interest_rate, nb_TotalPayments,rate_of_early_repayments, fixed_fee):\n",
        "    payment_records = []\n",
        "    previous_balance = am_EstimatedBalance\n",
        "    for month in range(1, nb_TotalPayments + 1):\n",
        "        principal_payment = calculate_principal_payment(previous_balance, annual_interest_rate, month, nb_TotalPayments)\n",
        "        interest_payment = previous_balance * (annual_interest_rate / 12)\n",
        "        early_repayment = calculate_early_repayment(previous_balance, principal_payment)\n",
        "        balance = previous_balance - (principal_payment + early_repayment)\n",
        "        if month == nb_TotalPayments:\n",
        "            EarlyRepaymentFee = 0\n",
        "        else:\n",
        "            EarlyRepaymentFee = calculate_EarlyRepaymentFee(month, previous_balance, principal_payment, nb_TotalPayments, annual_interest_rate, rate_of_early_repayments, fixed_fee)\n",
        "\n",
        "        payment_record = {\n",
        "            'Month': month,\n",
        "            'Balance': balance,\n",
        "            'Principal Component': principal_payment,\n",
        "            'Interest Component': interest_payment,\n",
        "            'Expected Sum of Early Repayments': early_repayment,\n",
        "            'Early Repayment Fee': EarlyRepaymentFee,\n",
        "        }\n",
        "        payment_records.append(payment_record)\n",
        "        previous_balance = balance\n",
        "    return payment_records\n",
        "\n"
      ],
      "metadata": {
        "id": "1nMFvPihmply"
      },
      "execution_count": 44,
      "outputs": []
    },
    {
      "cell_type": "markdown",
      "source": [
        "###**def CSV Reader from Drive**###"
      ],
      "metadata": {
        "id": "8mAXBcs4zLHi"
      }
    },
    {
      "cell_type": "code",
      "source": [
        "def csv_drive_path_generatoer(url):\n",
        " '''\n",
        " Help in read csv file directly from google drive.\n",
        " Make sure the csv format is standard.\n",
        " url:str - path to csv file example:\n",
        "   url = 'https://drive.google.com/file/d/126JPZ3lYwdLyJ2d_7jxM9jMtZaOlF-Ld/view?usp=sharing'\n",
        " return : str\n",
        " '''\n",
        " path = 'https://drive.google.com/uc?export=download&id='+url.split('/')[-2]\n",
        " return path"
      ],
      "metadata": {
        "id": "NJqVM6Y5zKSY"
      },
      "execution_count": 24,
      "outputs": []
    },
    {
      "cell_type": "markdown",
      "source": [
        "###**def and create Excel with Results**"
      ],
      "metadata": {
        "id": "VNbdj-z8w4mN"
      }
    },
    {
      "cell_type": "code",
      "source": [
        "def export_data_to_excel(link,excel_file_path, rate_of_early_repayments, fixed_fee, current_month):\n",
        "\n",
        "    path = csv_drive_path_generatoer(url = link)\n",
        "    loan_data_df = pd.read_csv(path)\n",
        "    writer = pd.ExcelWriter(excel_file_path, engine='xlsxwriter')\n",
        "    workbook = writer.book\n",
        "\n",
        "    components = ['Principal Component', 'Interest Component', 'Early Repayment Fee']\n",
        "    max_payments = loan_data_df['nb_TotalPayments'].max()\n",
        "\n",
        "    # Formats\n",
        "    number_format = workbook.add_format({'num_format': '#,##0.00'})\n",
        "    header_format = workbook.add_format({'bg_color': '#ADD8E6', 'bold': True})\n",
        "    title_format = workbook.add_format({'bold': True, 'color': 'blue'})\n",
        "    loan_id_format = workbook.add_format()  # Default format for loan ID\n",
        "\n",
        "    # Prepare headers for payment numbers and dates\n",
        "    payment_numbers = [f'Month {i+1}' for i in range(max_payments)]\n",
        "    month_end_dates = [(current_month + pd.offsets.MonthEnd(n)).strftime('%Y-%m-%d') for n in range(max_payments)]\n",
        "\n",
        "    # Initialize a DataFrame to store summary data\n",
        "    summary_data = pd.DataFrame(index=month_end_dates, columns=components).fillna(0)\n",
        "\n",
        "    for component in components:\n",
        "        worksheet = workbook.add_worksheet(component)\n",
        "        worksheet.right_to_left()\n",
        "\n",
        "        # Apply header format for the first two rows\n",
        "        worksheet.write_row(0, 1, payment_numbers, header_format)\n",
        "        worksheet.write_row(1, 1, month_end_dates, header_format)\n",
        "        worksheet.write('A1', 'Loan ID', header_format)\n",
        "        writer.sheets[component] = worksheet\n",
        "\n",
        "    for index, row in loan_data_df.iterrows():\n",
        "        loan_id = row['nk_Deal']\n",
        "        am_EstimatedBalance = row['am_EstimatedBalance']\n",
        "        annual_interest_rate = row['annual_interest_rate']\n",
        "        nb_TotalPayments = row['nb_TotalPayments']\n",
        "        schedule = calculate_loan_repayments(loan_id, am_EstimatedBalance, annual_interest_rate, nb_TotalPayments, rate_of_early_repayments, fixed_fee)\n",
        "\n",
        "        for component in components:\n",
        "            worksheet = writer.sheets[component]\n",
        "            worksheet.write(index + 2, 0, loan_id, loan_id_format)  # Write Loan ID in each sheet\n",
        "            for month_idx, data in enumerate(schedule, start=1):\n",
        "                value = data[component]\n",
        "                worksheet.write(index + 2, month_idx, value, number_format)\n",
        "                # Update summary data\n",
        "                summary_data.loc[month_end_dates[month_idx-1], component] += value\n",
        "\n",
        "    # Writing Summary Sheet with correct aggregation for Adjusted Value\n",
        "    summary_sheet = workbook.add_worksheet('Summary')\n",
        "    summary_sheet.right_to_left()\n",
        "    summary_sheet.write_row('B1', components, title_format)\n",
        "    for i, date in enumerate(summary_data.index):\n",
        "        summary_sheet.write(i + 2, 0, date, title_format)\n",
        "        for j, component in enumerate(components):\n",
        "            summary_sheet.write(i + 2, j + 1, summary_data.at[date, component], number_format)\n",
        "\n",
        "    writer.close()\n",
        "\n",
        "\n",
        "#export\n",
        "export_data_to_excel(\n",
        "    link = \"https://drive.google.com/file/d/1MKRuDwZTLByN2MO6aT1pciKnMVE4e6rg/view?usp=drive_link\",\n",
        "    excel_file_path = 'split_loan_data.xlsx',\n",
        "    rate_of_early_repayments=rate_of_early_repayments,\n",
        "    fixed_fee=fixed_fee,\n",
        "    current_month=current_month\n",
        ")\n",
        "\n",
        "#Download the file\n",
        "files.download('split_loan_data.xlsx')\n"
      ],
      "metadata": {
        "id": "cnCUdRkhqwwt",
        "colab": {
          "base_uri": "https://localhost:8080/",
          "height": 17
        },
        "outputId": "cc6632ff-b6ba-46cf-d2a0-c69005a537d4"
      },
      "execution_count": 42,
      "outputs": [
        {
          "output_type": "display_data",
          "data": {
            "text/plain": [
              "<IPython.core.display.Javascript object>"
            ],
            "application/javascript": [
              "\n",
              "    async function download(id, filename, size) {\n",
              "      if (!google.colab.kernel.accessAllowed) {\n",
              "        return;\n",
              "      }\n",
              "      const div = document.createElement('div');\n",
              "      const label = document.createElement('label');\n",
              "      label.textContent = `Downloading \"${filename}\": `;\n",
              "      div.appendChild(label);\n",
              "      const progress = document.createElement('progress');\n",
              "      progress.max = size;\n",
              "      div.appendChild(progress);\n",
              "      document.body.appendChild(div);\n",
              "\n",
              "      const buffers = [];\n",
              "      let downloaded = 0;\n",
              "\n",
              "      const channel = await google.colab.kernel.comms.open(id);\n",
              "      // Send a message to notify the kernel that we're ready.\n",
              "      channel.send({})\n",
              "\n",
              "      for await (const message of channel.messages) {\n",
              "        // Send a message to notify the kernel that we're ready.\n",
              "        channel.send({})\n",
              "        if (message.buffers) {\n",
              "          for (const buffer of message.buffers) {\n",
              "            buffers.push(buffer);\n",
              "            downloaded += buffer.byteLength;\n",
              "            progress.value = downloaded;\n",
              "          }\n",
              "        }\n",
              "      }\n",
              "      const blob = new Blob(buffers, {type: 'application/binary'});\n",
              "      const a = document.createElement('a');\n",
              "      a.href = window.URL.createObjectURL(blob);\n",
              "      a.download = filename;\n",
              "      div.appendChild(a);\n",
              "      a.click();\n",
              "      div.remove();\n",
              "    }\n",
              "  "
            ]
          },
          "metadata": {}
        },
        {
          "output_type": "display_data",
          "data": {
            "text/plain": [
              "<IPython.core.display.Javascript object>"
            ],
            "application/javascript": [
              "download(\"download_ad0984e6-c3e5-4dbe-8b88-1cb86d688330\", \"split_loan_data.xlsx\", 1757794)"
            ]
          },
          "metadata": {}
        }
      ]
    },
    {
      "cell_type": "code",
      "source": [],
      "metadata": {
        "id": "dQYBPj_ukdYJ"
      },
      "execution_count": null,
      "outputs": []
    }
  ]
}