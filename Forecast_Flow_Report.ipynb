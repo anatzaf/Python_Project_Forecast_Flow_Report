{
  "nbformat": 4,
  "nbformat_minor": 0,
  "metadata": {
    "colab": {
      "provenance": [],
      "authorship_tag": "ABX9TyPCczzx7cjumWsHwpzwTxlE",
      "include_colab_link": true
    },
    "kernelspec": {
      "name": "python3",
      "display_name": "Python 3"
    },
    "language_info": {
      "name": "python"
    }
  },
  "cells": [
    {
      "cell_type": "markdown",
      "metadata": {
        "id": "view-in-github",
        "colab_type": "text"
      },
      "source": [
        "<a href=\"https://colab.research.google.com/github/anatzaf/Python_Project_Forecast_Flow_Report/blob/main/Forecast_Flow_Report.ipynb\" target=\"_parent\"><img src=\"https://colab.research.google.com/assets/colab-badge.svg\" alt=\"Open In Colab\"/></a>"
      ]
    },
    {
      "cell_type": "markdown",
      "source": [
        "###**import & parameters**"
      ],
      "metadata": {
        "id": "bCYxcbwmqzHz"
      }
    },
    {
      "cell_type": "code",
      "source": [
        "!pip install numpy_financial\n",
        "\n",
        "import pandas as pd\n",
        "import numpy_financial as npf\n",
        "from datetime import datetime\n",
        "import calendar\n",
        "\n",
        "rate_of_early_repayments = 0.025\n",
        "fixed_fee = 24\n",
        "current_month = datetime(2024, 2, 29)  #Running date"
      ],
      "metadata": {
        "id": "VFVE5MjHqyEy",
        "colab": {
          "base_uri": "https://localhost:8080/"
        },
        "outputId": "383ae38b-a2ec-477f-bf52-dc39646053d8"
      },
      "execution_count": 6,
      "outputs": [
        {
          "output_type": "stream",
          "name": "stdout",
          "text": [
            "Collecting numpy_financial\n",
            "  Downloading numpy_financial-1.0.0-py3-none-any.whl (14 kB)\n",
            "Requirement already satisfied: numpy>=1.15 in /usr/local/lib/python3.10/dist-packages (from numpy_financial) (1.25.2)\n",
            "Installing collected packages: numpy_financial\n",
            "Successfully installed numpy_financial-1.0.0\n"
          ]
        }
      ]
    },
    {
      "cell_type": "markdown",
      "source": [
        "### **def Repayments Functions**"
      ],
      "metadata": {
        "id": "_fdb--8pmhW8"
      }
    },
    {
      "cell_type": "code",
      "source": [
        "def calculate_monthly_payment(am_EstimatedBalance, annual_interest_rate, nb_TotalPayments):\n",
        "    monthly_interest_rate = annual_interest_rate / 12\n",
        "    return npf.pmt(monthly_interest_rate, nb_TotalPayments, -am_EstimatedBalance)\n",
        "\n",
        "def calculate_principal_payment(am_EstimatedBalance, annual_interest_rate, month, nb_TotalPayments):\n",
        "    monthly_interest_rate = annual_interest_rate / 12\n",
        "    remaining_payments = nb_TotalPayments - month + 1\n",
        "    monthly_payment = calculate_monthly_payment(am_EstimatedBalance, annual_interest_rate, remaining_payments)\n",
        "    interest_payment = am_EstimatedBalance * monthly_interest_rate\n",
        "    return monthly_payment - interest_payment\n",
        "\n",
        "def calculate_early_repayment(previous_balance, principal_payment):\n",
        "    return (previous_balance - principal_payment) * rate_of_early_repayments\n",
        "\n",
        "def calculate_EarlyRepaymentFee(payment_number, previous_balance, principal_component, nb_TotalPayments, annual_interest_rate, rate_of_early_repayments, fixed_fee):\n",
        "    monthly_interest_rate = annual_interest_rate / 12\n",
        "    adjusted_balance = previous_balance - principal_component\n",
        "    EarlyRepaymentFee = 0\n",
        "    for future_month in range(1, 7):\n",
        "        adjusted_nper = nb_TotalPayments - payment_number\n",
        "        if future_month <= adjusted_nper:\n",
        "            interest_payment = npf.ipmt(monthly_interest_rate, future_month, adjusted_nper, -adjusted_balance)\n",
        "            EarlyRepaymentFee += interest_payment\n",
        "    EarlyRepaymentFee = (EarlyRepaymentFee * rate_of_early_repayments) + (fixed_fee / nb_TotalPayments)\n",
        "    return EarlyRepaymentFee\n",
        "\n",
        "def calculate_loan_repayments(loan_id,am_EstimatedBalance, annual_interest_rate, nb_TotalPayments,rate_of_early_repayments, fixed_fee):\n",
        "    payment_records = []\n",
        "    previous_balance = am_EstimatedBalance\n",
        "    for month in range(1, nb_TotalPayments + 1):\n",
        "        principal_payment = calculate_principal_payment(previous_balance, annual_interest_rate, month, nb_TotalPayments)\n",
        "        interest_payment = previous_balance * (annual_interest_rate / 12)\n",
        "        early_repayment = calculate_early_repayment(previous_balance, principal_payment)\n",
        "        balance = previous_balance - (principal_payment + early_repayment)\n",
        "        if month == nb_TotalPayments:\n",
        "            EarlyRepaymentFee = 0\n",
        "        else:\n",
        "            EarlyRepaymentFee = calculate_EarlyRepaymentFee(month, previous_balance, principal_payment, nb_TotalPayments, annual_interest_rate, rate_of_early_repayments, fixed_fee)\n",
        "\n",
        "        payment_record = {\n",
        "            'Month': month,\n",
        "            'Balance': balance,\n",
        "            'Principal Component': principal_payment,\n",
        "            'Interest Component': interest_payment,\n",
        "            'Expected Sum of Early Repayments': early_repayment,\n",
        "            'Early Repayment Fee': EarlyRepaymentFee,\n",
        "        }\n",
        "        payment_records.append(payment_record)\n",
        "        previous_balance = balance\n",
        "    return payment_records\n",
        "\n"
      ],
      "metadata": {
        "id": "1nMFvPihmply"
      },
      "execution_count": null,
      "outputs": []
    },
    {
      "cell_type": "markdown",
      "source": [
        "###**def CSV Reader from Drive**###"
      ],
      "metadata": {
        "id": "8mAXBcs4zLHi"
      }
    },
    {
      "cell_type": "code",
      "source": [
        "def csv_drive_path_generatoer(url):\n",
        " '''\n",
        " Help in read csv file directly from google drive.\n",
        " Make sure the csv format is standard.\n",
        " url:str - path to csv file example:\n",
        "   url = 'https://drive.google.com/file/d/126JPZ3lYwdLyJ2d_7jxM9jMtZaOlF-Ld/view?usp=sharing'\n",
        " return : str\n",
        " '''\n",
        " path = 'https://drive.google.com/uc?export=download&id='+url.split('/')[-2]\n",
        " return path"
      ],
      "metadata": {
        "id": "NJqVM6Y5zKSY"
      },
      "execution_count": null,
      "outputs": []
    },
    {
      "cell_type": "markdown",
      "source": [
        "###**def and create Excel with Results**"
      ],
      "metadata": {
        "id": "VNbdj-z8w4mN"
      }
    },
    {
      "cell_type": "code",
      "source": [
        "def export_data_to_excel(link,excel_file_path, rate_of_early_repayments, fixed_fee, current_month):\n",
        "\n",
        "    path = csv_drive_path_generatoer(url = link)\n",
        "    loan_data_df = pd.read_csv(path)\n",
        "    writer = pd.ExcelWriter(excel_file_path, engine='xlsxwriter')\n",
        "    workbook = writer.book\n",
        "\n",
        "#Defining the sheets in Excel and designing rows and columns\n",
        "    components = ['Principal Component', 'Interest Component', 'Early Repayment Fee']\n",
        "    max_payments = loan_data_df['nb_TotalPayments'].max()\n",
        "    number_format = workbook.add_format({'num_format': '#,##0.00'})\n",
        "    header_format = workbook.add_format({'bg_color': '#ADD8E6', 'bold': True})\n",
        "    title_format = workbook.add_format({'bold': True, 'color': 'blue'})\n",
        "    loan_id_format = workbook.add_format()\n",
        "    payment_numbers = [f'Month {i+1}' for i in range(max_payments)]\n",
        "    month_end_dates = [(current_month + pd.offsets.MonthEnd(n)).strftime('%Y-%m-%d') for n in range(max_payments)]\n",
        "\n",
        "\n",
        "    summary_data = pd.DataFrame(index=month_end_dates, columns=components).fillna(0)\n",
        "\n",
        "    for component in components:\n",
        "        worksheet = workbook.add_worksheet(component)\n",
        "        worksheet.right_to_left()\n",
        "        worksheet.write_row(0, 1, payment_numbers, header_format)\n",
        "        worksheet.write_row(1, 1, month_end_dates, header_format)\n",
        "        worksheet.write('A1', 'Loan ID', header_format)\n",
        "        writer.sheets[component] = worksheet\n",
        "\n",
        " # Calculate and write loan repayment data to Excel\n",
        "    for index, row in loan_data_df.iterrows():\n",
        "        loan_id = row['nk_Deal']\n",
        "        am_EstimatedBalance = row['am_EstimatedBalance']\n",
        "        annual_interest_rate = row['annual_interest_rate']\n",
        "        nb_TotalPayments = row['nb_TotalPayments']\n",
        "        schedule = calculate_loan_repayments(loan_id, am_EstimatedBalance, annual_interest_rate, nb_TotalPayments, rate_of_early_repayments, fixed_fee)\n",
        "\n",
        "        for component in components:\n",
        "            worksheet = writer.sheets[component]\n",
        "            worksheet.write(index + 2, 0, loan_id, loan_id_format)  # Write Loan ID in each sheet\n",
        "            for month_idx, data in enumerate(schedule, start=1):\n",
        "                value = data[component]\n",
        "                worksheet.write(index + 2, month_idx, value, number_format)\n",
        "\n",
        "                summary_data.loc[month_end_dates[month_idx-1], component] += value\n",
        "\n",
        "\n",
        "    summary_sheet = workbook.add_worksheet('Summary')\n",
        "    summary_sheet.right_to_left()\n",
        "    summary_sheet.write_row('B1', components, title_format)\n",
        "    for i, date in enumerate(summary_data.index):\n",
        "        summary_sheet.write(i + 2, 0, date, title_format)\n",
        "        for j, component in enumerate(components):\n",
        "            summary_sheet.write(i + 2, j + 1, summary_data.at[date, component], number_format)\n",
        "\n",
        "    writer.close()\n",
        "\n",
        "\n",
        "export_data_to_excel(\n",
        "    link = \"https://drive.google.com/file/d/1NLhOpRtk7enl6iIYduCYJB9cyFiAN9gr/view?usp=drive_link\",\n",
        "    excel_file_path = '/content/drive/My Drive/split_loan_data.xlsx',\n",
        "    rate_of_early_repayments=rate_of_early_repayments,\n",
        "    fixed_fee=fixed_fee,\n",
        "    current_month=current_month\n",
        ")\n"
      ],
      "metadata": {
        "id": "cnCUdRkhqwwt",
        "colab": {
          "base_uri": "https://localhost:8080/",
          "height": 211
        },
        "outputId": "5bb0bc62-83b2-4d2d-8f58-09e263e97d8b"
      },
      "execution_count": 4,
      "outputs": [
        {
          "output_type": "error",
          "ename": "NameError",
          "evalue": "name 'rate_of_early_repayments' is not defined",
          "traceback": [
            "\u001b[0;31m---------------------------------------------------------------------------\u001b[0m",
            "\u001b[0;31mNameError\u001b[0m                                 Traceback (most recent call last)",
            "\u001b[0;32m<ipython-input-4-16e55be5011b>\u001b[0m in \u001b[0;36m<cell line: 58>\u001b[0;34m()\u001b[0m\n\u001b[1;32m     59\u001b[0m     \u001b[0mlink\u001b[0m \u001b[0;34m=\u001b[0m \u001b[0;34m\"https://drive.google.com/file/d/1NLhOpRtk7enl6iIYduCYJB9cyFiAN9gr/view?usp=drive_link\"\u001b[0m\u001b[0;34m,\u001b[0m\u001b[0;34m\u001b[0m\u001b[0;34m\u001b[0m\u001b[0m\n\u001b[1;32m     60\u001b[0m     \u001b[0mexcel_file_path\u001b[0m \u001b[0;34m=\u001b[0m \u001b[0;34m'/content/drive/My Drive/split_loan_data.xlsx'\u001b[0m\u001b[0;34m,\u001b[0m\u001b[0;34m\u001b[0m\u001b[0;34m\u001b[0m\u001b[0m\n\u001b[0;32m---> 61\u001b[0;31m     \u001b[0mrate_of_early_repayments\u001b[0m\u001b[0;34m=\u001b[0m\u001b[0mrate_of_early_repayments\u001b[0m\u001b[0;34m,\u001b[0m\u001b[0;34m\u001b[0m\u001b[0;34m\u001b[0m\u001b[0m\n\u001b[0m\u001b[1;32m     62\u001b[0m     \u001b[0mfixed_fee\u001b[0m\u001b[0;34m=\u001b[0m\u001b[0mfixed_fee\u001b[0m\u001b[0;34m,\u001b[0m\u001b[0;34m\u001b[0m\u001b[0;34m\u001b[0m\u001b[0m\n\u001b[1;32m     63\u001b[0m     \u001b[0mcurrent_month\u001b[0m\u001b[0;34m=\u001b[0m\u001b[0mcurrent_month\u001b[0m\u001b[0;34m\u001b[0m\u001b[0;34m\u001b[0m\u001b[0m\n",
            "\u001b[0;31mNameError\u001b[0m: name 'rate_of_early_repayments' is not defined"
          ]
        }
      ]
    }
  ]
}